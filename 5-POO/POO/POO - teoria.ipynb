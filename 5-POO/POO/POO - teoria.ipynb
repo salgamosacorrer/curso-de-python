{
 "cells": [
  {
   "cell_type": "markdown",
   "metadata": {},
   "source": [
    "# <center>**09 - PROGRAMACIÓN ORIENTADA A OBJETOS - PARTE 1**</center>"
   ]
  },
  {
   "cell_type": "markdown",
   "metadata": {},
   "source": [
    "Python es un lenguaje multiparadigma, es decir, permite programar utilizando diferentes estilos. Los paradigmas de programación son formas de clasificar los lenguajes de programación en función de su estilo de programación. Los paradigmas más conocidos son:\n",
    "\n",
    "- Programación imperativa\n",
    "- Programación declarativa\n",
    "- Programación orientada a objetos\n",
    "\n",
    "Hasta ahora hemos trabajado con el paradigma imperativo, es decir, hemos programado utilizando instrucciones que modifican el estado del programa.\n",
    "\n",
    "En este tema vamos a introducir el paradigma de programación orientada a objetos. En este paradigma, el programa se estructura en entidades llamadas objetos, que interactúan entre sí para realizar las tareas necesarias. Cada objeto es una instancia de una clase, que define la estructura y el comportamiento de los objetos de ese tipo."
   ]
  },
  {
   "cell_type": "markdown",
   "metadata": {},
   "source": [
    "## 1. Clases y objetos\n",
    "\n",
    "Una clase es una plantilla que define la estructura y el comportamiento de algo. Por ejemplo, la clase `str` define la estructura y el comportamiento de las cadenas de texto. Una clase se define mediante la palabra reservada `class`, seguida del nombre de la clase y dos puntos. Por ejemplo, la siguiente clase define un tipo de objeto que representa a una persona:"
   ]
  },
  {
   "cell_type": "code",
   "execution_count": null,
   "metadata": {},
   "outputs": [],
   "source": [
    "class Persona:\n",
    "    pass"
   ]
  },
  {
   "cell_type": "markdown",
   "metadata": {},
   "source": [
    "La clase `Persona` no define ninguna estructura ni comportamiento, pero podemos crear objetos de esa clase. Los objetos son instancias de una clase. Para crear un objeto de una clase, se llama a la clase como si fuera una función. Por ejemplo, para crear un objeto de la clase `Persona`, se llama a la clase `Persona()` como si fuera una función:"
   ]
  },
  {
   "cell_type": "code",
   "execution_count": null,
   "metadata": {},
   "outputs": [],
   "source": [
    "mi_persona = Persona()\n",
    "type(mi_persona)"
   ]
  },
  {
   "cell_type": "markdown",
   "metadata": {},
   "source": [
    "Hemos creado un objeto de la clase `Persona` y lo hemos asignado a la variable `mi_persona`."
   ]
  },
  {
   "cell_type": "markdown",
   "metadata": {},
   "source": [
    "Pero un objeto que no presenta atributos ni métodos no tiene mucho sentido. Podemos agregar características a un objeto mediante atributos. Los atributos son variables que pertenecen a un objeto. Por ejemplo, podemos agregar el atributo `nombre` a nuestra clase `Persona`.\n",
    "\n",
    "Para lograrlo debemos definir además nuestro primer método `__init__`. Este método es especial, ya que se ejecuta automáticamente al crear un objeto de la clase."
   ]
  },
  {
   "cell_type": "code",
   "execution_count": null,
   "metadata": {},
   "outputs": [],
   "source": [
    "class Persona:\n",
    "    def __init__(self):\n",
    "        print('Se ejecutó el método __init__()')\n",
    "\n",
    "mi_persona = Persona()"
   ]
  },
  {
   "cell_type": "markdown",
   "metadata": {},
   "source": [
    "El método `__init__` recibe como primer parámetro el objeto que se está creando, y los parámetros que se pasan al llamar a la clase. Por convención, el primer parámetro se llama `self`. El método `__init__` debe inicializar los atributos del objeto. Por ejemplo, el siguiente método `__init__` inicializa el atributo `nombre` y `edad` del objeto:"
   ]
  },
  {
   "cell_type": "code",
   "execution_count": null,
   "metadata": {},
   "outputs": [],
   "source": [
    "class Persona:\n",
    "    def __init__(self, nombre, edad):\n",
    "        self.nombre = nombre\n",
    "        self.edad = edad"
   ]
  },
  {
   "cell_type": "markdown",
   "metadata": {},
   "source": [
    "Para crear la instancia de esa clase vamos a tener que pasar entre parentesis los atributos que definimos en el método `__init__`."
   ]
  },
  {
   "cell_type": "code",
   "execution_count": null,
   "metadata": {},
   "outputs": [],
   "source": [
    "mi_persona = Persona('Francisco', 28)"
   ]
  },
  {
   "cell_type": "markdown",
   "metadata": {},
   "source": [
    "Ahora podemos acceder a los atributos de un objeto mediante la sintaxis `objeto.atributo`. Por ejemplo, podemos acceder al atributo `nombre` del objeto `mi_persona`:"
   ]
  },
  {
   "cell_type": "code",
   "execution_count": null,
   "metadata": {},
   "outputs": [],
   "source": [
    "print(mi_persona.nombre,mi_persona.edad)"
   ]
  },
  {
   "cell_type": "markdown",
   "metadata": {},
   "source": [
    "También podemos modificar el valor de un atributo de un objeto:"
   ]
  },
  {
   "cell_type": "code",
   "execution_count": null,
   "metadata": {},
   "outputs": [],
   "source": [
    "mi_persona.nombre = 'José'\n",
    "mi_persona.edad = 30\n",
    "\n",
    "print(mi_persona.nombre,mi_persona.edad)"
   ]
  },
  {
   "cell_type": "markdown",
   "metadata": {},
   "source": [
    "En Python, los atributos de un objeto pueden ser de dos tipos:\n",
    "\n",
    "- **Atributos de instancia**: Son atributos que pertenecen a un objeto en particular. Por ejemplo, el atributo `nombre` de la clase `Persona` es un atributo de instancia.\n",
    "\n",
    "- **Atributos de clase**: Son atributos que pertenecen a la clase en general. Por ejemplo, podemos agregar el atributo `especie` a la clase `Persona`. Este atributo es un atributo de clase, ya que es común a todos los objetos de la clase `Persona`."
   ]
  },
  {
   "cell_type": "code",
   "execution_count": null,
   "metadata": {},
   "outputs": [],
   "source": [
    "class Gato:\n",
    "    reino = 'animalia'                  # atributo de clase\n",
    "    def __init__(self, nombre, raza):\n",
    "        self.nombre = nombre            # atributos de instancia\n",
    "        self.raza = raza\n",
    "\n",
    "mi_gato = Gato('Garfield', 'persa')\n",
    "otro_gato = Gato('Tom', 'siames')\n",
    "\n",
    "print(mi_gato.reino, otro_gato.reino)"
   ]
  },
  {
   "cell_type": "markdown",
   "metadata": {},
   "source": [
    "Para acceder a un atributo de clase, se utiliza la sintaxis `Clase.atributo`. Por ejemplo, podemos acceder al atributo `especie` de la clase `Persona`:"
   ]
  },
  {
   "cell_type": "code",
   "execution_count": null,
   "metadata": {},
   "outputs": [],
   "source": [
    "print(Gato.reino)"
   ]
  },
  {
   "cell_type": "markdown",
   "metadata": {},
   "source": [
    "Asi como existe el método especial `__init__`, existen otros métodos especiales que permiten definir el comportamiento de los objetos. Por ejemplo, el método `__str__` permite definir la representación en forma de cadena de un objeto. Por ejemplo, el siguiente método `__str__` define la representación en forma de cadena de un objeto de la clase `Persona`:"
   ]
  },
  {
   "cell_type": "code",
   "execution_count": null,
   "metadata": {},
   "outputs": [],
   "source": [
    "class Persona2:\n",
    "    def __init__(self, nombre, edad):\n",
    "        self.nombre = nombre\n",
    "        self.edad = edad\n",
    "    def __str__(self):\n",
    "        return f'Persona: {self.nombre}, {self.edad} años'"
   ]
  },
  {
   "cell_type": "code",
   "execution_count": null,
   "metadata": {},
   "outputs": [],
   "source": [
    "mi_persona = Persona('Francisco', 28)\n",
    "otra_persona = Persona2('Lucas', 24)\n",
    "\n",
    "print(mi_persona)\n",
    "print(otra_persona)"
   ]
  },
  {
   "cell_type": "markdown",
   "metadata": {},
   "source": [
    "## 2. Métodos\n",
    "\n",
    "Los métodos son funciones que pertenecen a una clase. Por ejemplo, podemos agregar el método `saludar` a la clase `Persona`. Este método muestra un saludo por pantalla:"
   ]
  },
  {
   "cell_type": "code",
   "execution_count": null,
   "metadata": {},
   "outputs": [],
   "source": [
    "class Persona:\n",
    "    def __init__(self, nombre, edad):\n",
    "        self.nombre = nombre\n",
    "        self.edad = edad\n",
    "    def saludar(self):\n",
    "        print(f'Hola, soy {self.nombre} y tengo {self.edad} años')"
   ]
  },
  {
   "cell_type": "markdown",
   "metadata": {},
   "source": [
    "Para llama a un método de un objeto, se utiliza la sintaxis `objeto.metodo()`. Por ejemplo, podemos llamar al método `saludar` del objeto `mi_persona`:"
   ]
  },
  {
   "cell_type": "code",
   "execution_count": null,
   "metadata": {},
   "outputs": [],
   "source": [
    "mi_persona = Persona('Maria', 31)\n",
    "mi_persona.saludar()"
   ]
  },
  {
   "cell_type": "markdown",
   "metadata": {},
   "source": [
    "Los métodos pueden recibir parámetros. Por ejemplo, el siguiente método `saludar` recibe un parámetro `otro_nombre` y muestra un saludo personalizado:"
   ]
  },
  {
   "cell_type": "code",
   "execution_count": null,
   "metadata": {},
   "outputs": [],
   "source": [
    "class Persona:\n",
    "    def __init__(self, nombre, edad):\n",
    "        self.nombre = nombre\n",
    "        self.edad = edad\n",
    "    def saludar(self, otra_persona):\n",
    "        print(f'Hola {otra_persona}, soy {self.nombre} y tengo {self.edad} años')"
   ]
  },
  {
   "cell_type": "code",
   "execution_count": null,
   "metadata": {},
   "outputs": [],
   "source": [
    "mi_persona = Persona('Pablo', 48)\n",
    "mi_persona.saludar('Julia')"
   ]
  }
 ],
 "metadata": {
  "kernelspec": {
   "display_name": "Python 3",
   "language": "python",
   "name": "python3"
  },
  "language_info": {
   "codemirror_mode": {
    "name": "ipython",
    "version": 3
   },
   "file_extension": ".py",
   "mimetype": "text/x-python",
   "name": "python",
   "nbconvert_exporter": "python",
   "pygments_lexer": "ipython3",
   "version": "3.11.4"
  }
 },
 "nbformat": 4,
 "nbformat_minor": 2
}
