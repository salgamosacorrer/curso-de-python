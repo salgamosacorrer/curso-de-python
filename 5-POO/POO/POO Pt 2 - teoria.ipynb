{
 "cells": [
  {
   "cell_type": "markdown",
   "metadata": {},
   "source": [
    "# <center>**09 - PROGRAMACIÓN ORIENTADA A OBJETOS - PARTE 2**</center>"
   ]
  },
  {
   "cell_type": "markdown",
   "metadata": {},
   "source": [
    "Anteriormente vimos que los objetos son una forma de agrupar datos y funciones que operan sobre esos datos. En esta parte terminaremos de ver los conceptos clave de la programación orientada a objetos: herencia, polimorfismo y encapsulamiento."
   ]
  },
  {
   "cell_type": "markdown",
   "metadata": {},
   "source": [
    "## 1. Herencia\n",
    "\n",
    "La herencia es una forma de crear nuevas clases usando clases que ya han sido definidas. Las clases recién formadas se denominan clases derivadas, las clases de las que se derivan se denominan clases base. Las clases derivadas heredan los atributos y métodos de las clases base, y puede agregar más atributos o métodos propios.\n",
    "\n",
    "Por ejemplo, vamos a crear una clase `Persona` que tenga como atributos el nombre, la edad y el lugar de residencia. Además, queremos que tenga un método que muestre por pantalla los datos de la persona. Para ello definimos el método `descripcion`:"
   ]
  },
  {
   "cell_type": "code",
   "execution_count": null,
   "metadata": {},
   "outputs": [],
   "source": [
    "class Persona:\n",
    "    def __init__(self, nombre, edad):\n",
    "        self.nombre = nombre\n",
    "        self.edad = edad\n",
    "    def descripcion(self):\n",
    "        print(f\"Nombre: {self.nombre}, edad: {self.edad}\")"
   ]
  },
  {
   "cell_type": "markdown",
   "metadata": {},
   "source": [
    "Ahora, para aplicar la herencia, vamos a crear una clase `Alumno` que deriva de la clase `Persona`. La sintaxis para crear una clase derivada es la siguiente:\n",
    "\n",
    "```python\n",
    "class NuevaClase(ClaseBase):\n",
    "    # Definición de la clase\n",
    "```"
   ]
  },
  {
   "cell_type": "code",
   "execution_count": null,
   "metadata": {},
   "outputs": [],
   "source": [
    "class Alumno(Persona):\n",
    "    pass"
   ]
  },
  {
   "cell_type": "code",
   "execution_count": null,
   "metadata": {},
   "outputs": [],
   "source": [
    "persona_1 = Persona(\"Agustina\", 37)\n",
    "alumno_1 = Alumno(\"Pablo\", 13)\n",
    "\n",
    "persona_1.descripcion()\n",
    "print(\"---------------------------\")\n",
    "alumno_1.descripcion()"
   ]
  },
  {
   "cell_type": "markdown",
   "metadata": {},
   "source": [
    "Vemos como la clase derivada tiene como clase base a la clase `Persona`. Esto significa que la clase `Alumno` hereda todos los atributos y métodos de la clase `Persona`. Además, podemos añadir nuevos atributos y métodos a la clase derivada. Por ejemplo, vamos a añadir un nuevo atributo `carrera` y un método `estudiar`:"
   ]
  },
  {
   "cell_type": "code",
   "execution_count": null,
   "metadata": {},
   "outputs": [],
   "source": [
    "class Alumno(Persona):\n",
    "    def __init__(self, nombre, edad, curso):\n",
    "        self.nombre = nombre\n",
    "        self.edad = edad\n",
    "        self.curso = curso\n",
    "    def estudiar(self):\n",
    "        print(f\"{self.nombre} está estudiando\")"
   ]
  },
  {
   "cell_type": "code",
   "execution_count": null,
   "metadata": {},
   "outputs": [],
   "source": [
    "alumno_2 = Alumno(\"Pablo\", 13, \"1°\")\n",
    "alumno_2.descripcion()\n",
    "alumno_2.estudiar()"
   ]
  },
  {
   "cell_type": "markdown",
   "metadata": {},
   "source": [
    "Podemos evitar escribir el constructor `__init__()` de la clase derivada, ya que automáticamente hereda el constructor de la clase base. Sin embargo, si queremos añadir algún atributo nuevo, o modificar el valor de algún atributo heredado, debemos escribir un nuevo constructor. Para ello tenemos dos alternativas:\n",
    "\n",
    "Utilizar el constructor de la clase base para inicializar los atributos heredados y luego inicializar el nuevo atributo:"
   ]
  },
  {
   "cell_type": "code",
   "execution_count": null,
   "metadata": {},
   "outputs": [],
   "source": [
    "class Alumno(Persona):\n",
    "    def __init__(self, nombre, edad, curso):\n",
    "        Persona.__init__(self, nombre, edad)\n",
    "        self.curso = curso\n",
    "\n",
    "alumno_3 = Alumno(\"Pablo\", 13, \"1°\")\n",
    "alumno_3.descripcion()\n",
    "alumno_3.curso"
   ]
  },
  {
   "cell_type": "markdown",
   "metadata": {},
   "source": [
    "La otra alternativa es utilizar la función `super()` que nos permite invocar un método de la clase base. En este caso, podemos invocar el constructor de la clase base para inicializar los atributos heredados y luego inicializar el nuevo atributo:"
   ]
  },
  {
   "cell_type": "code",
   "execution_count": null,
   "metadata": {},
   "outputs": [],
   "source": [
    "class Alumno(Persona):\n",
    "    def __init__(self, nombre, edad, curso):\n",
    "        super().__init__(nombre, edad)        # self no es necesario\n",
    "        self.curso = curso\n",
    "        \n",
    "alumno_4 = Alumno(\"Ana\", 17, \"5°\")\n",
    "alumno_4.descripcion()\n",
    "alumno_4.curso"
   ]
  },
  {
   "cell_type": "markdown",
   "metadata": {},
   "source": [
    "Gracias a la herencia podemos reutilizar el código de la clase base y además añadir nuevo código en la clase derivada. Así como reutilizamos el constructor de la clase base, también podemos reutilizar los métodos de la clase base. Por ejemplo, vamos a modificar el método `descripcion()` de la clase `Alumno` para que muestre por pantalla los datos del alumno y el curso en el que está:"
   ]
  },
  {
   "cell_type": "code",
   "execution_count": null,
   "metadata": {},
   "outputs": [],
   "source": [
    "class Alumno(Persona):\n",
    "    def __init__(self, nombre, edad, curso):\n",
    "        super().__init__(nombre, edad)\n",
    "        self.curso = curso\n",
    "    def descripcion(self):\n",
    "        super().descripcion()\n",
    "        print(f\"Curso: {self.curso}\")\n",
    "    \n",
    "alumno_5 = Alumno(\"Roberto\", 15, \"3°\")\n",
    "alumno_5.descripcion()"
   ]
  },
  {
   "cell_type": "markdown",
   "metadata": {},
   "source": [
    "En este caso, hemos reutilizado el método `descripcion()` de la clase base `Persona` y hemos añadido el curso en el que está el alumno. Sin embargo, también podemos sobrescribir el método de la clase base, es decir, podemos redefinir el método en la clase derivada."
   ]
  },
  {
   "cell_type": "markdown",
   "metadata": {},
   "source": [
    "## 2. Polimorfismo\n",
    "\n",
    "El polimorfismo es la capacidad de un objeto para tomar varias formas. En Python, esto significa que un objeto puede pasar por diferentes tipos. El polimorfismo nos permite definir métodos en la clase base que serán sobreescritos en las clases derivadas.\n",
    "\n",
    "Por ejemplo, vamos a definir una clase `Animal` que tenga un método `hacer_sonido()`, y luego definiremos dos clases derivadas `Perro` y `Gato` que sobrescribirán el método `hacer_sonido()`:"
   ]
  },
  {
   "cell_type": "code",
   "execution_count": null,
   "metadata": {},
   "outputs": [],
   "source": [
    "class Animal:\n",
    "    def __init__(self, nombre):\n",
    "        self.nombre = nombre\n",
    "\n",
    "    def hacer_sonido(self):\n",
    "        pass\n",
    "\n",
    "class Perro(Animal):\n",
    "    def hacer_sonido(self):\n",
    "        return \"Woof!\"\n",
    "\n",
    "class Gato(Animal):\n",
    "    def hacer_sonido(self):\n",
    "        return \"Meow!\"\n",
    "\n",
    "def funcion_polimorfica(animal):\n",
    "    print(animal.hacer_sonido())\n",
    "\n",
    "mi_perro = Perro(\"Toby\")\n",
    "mi_gato = Gato(\"Michi\")\n",
    "\n",
    "funcion_polimorfica(mi_perro)\n",
    "funcion_polimorfica(mi_gato)"
   ]
  },
  {
   "cell_type": "markdown",
   "metadata": {},
   "source": [
    "Ambas clases derivadas tienen el método `hacer_sonido()`, sin embargo, cada uno de ellos tiene un comportamiento diferente. Esto es lo que se conoce como polimorfismo, un mismo método se comporta de forma diferente en cada clase derivada."
   ]
  },
  {
   "cell_type": "markdown",
   "metadata": {},
   "source": [
    "## 3. Encapsulamiento\n",
    "\n",
    "El encapsulamiento es un mecanismo que permite restringir el acceso a los métodos y atributos de la clase. Esto permite proteger los datos, para evitar que sean modificados por error. Sin embargo, aún es posible acceder a ellos mediante métodos de acceso (getters y setters). En Python no existen los modificadores de acceso como en otros lenguajes (public, private, protected), sin embargo, se puede acceder a los atributos protegidos y privados. Por convención, se utiliza un guión bajo antes del nombre del atributo para indicar que es protegido, y dos guiones bajos para indicar que es privado. Veamos un ejemplo:"
   ]
  },
  {
   "cell_type": "code",
   "execution_count": null,
   "metadata": {},
   "outputs": [],
   "source": [
    "class Auto:\n",
    "    def __init__(self, marca, modelo, chasis):\n",
    "        self.marca = marca\n",
    "        self.modelo = modelo\n",
    "        self.__chasis = chasis\n",
    "    def __str__(self):\n",
    "        return f\"Marca: {self.marca}, modelo: {self.modelo}\"\n",
    "    def ver_chasis(self):\n",
    "        return self.__chasis\n",
    "    \n",
    "auto_1 = Auto(\"Ford\", \"Fiesta\", \"123456\")\n",
    "print(auto_1)"
   ]
  },
  {
   "cell_type": "markdown",
   "metadata": {},
   "source": [
    "En este caso, chasis es un atributo privado, y marca y modelo son atributos públicos. Podriamos acceder al chasis mediante el método `ver_chasis()` (el cual simula un getter):"
   ]
  },
  {
   "cell_type": "code",
   "execution_count": null,
   "metadata": {},
   "outputs": [],
   "source": [
    "print(auto_1.ver_chasis())"
   ]
  },
  {
   "cell_type": "markdown",
   "metadata": {},
   "source": [
    "Sin embargo, si intentamos acceder al chasis directamente, nos dará un error:"
   ]
  },
  {
   "cell_type": "code",
   "execution_count": null,
   "metadata": {},
   "outputs": [],
   "source": [
    "print(auto_1.chasis)\n",
    "print(auto_1.__chasis)"
   ]
  },
  {
   "cell_type": "markdown",
   "metadata": {},
   "source": [
    "A pesar de esto, aún es posible acceder al atributo privado, aunque no es recomendable:"
   ]
  },
  {
   "cell_type": "code",
   "execution_count": null,
   "metadata": {},
   "outputs": [],
   "source": [
    "print(auto_1._Auto__chasis)"
   ]
  },
  {
   "cell_type": "markdown",
   "metadata": {},
   "source": [
    "Por lo tanto, el encapsulamiento en Python no es tan estricto como en otros lenguajes, pero aún así nos permite proteger los datos de la clase en cierta medida."
   ]
  }
 ],
 "metadata": {
  "kernelspec": {
   "display_name": "Python 3",
   "language": "python",
   "name": "python3"
  },
  "language_info": {
   "codemirror_mode": {
    "name": "ipython",
    "version": 3
   },
   "file_extension": ".py",
   "mimetype": "text/x-python",
   "name": "python",
   "nbconvert_exporter": "python",
   "pygments_lexer": "ipython3",
   "version": "3.12.0"
  }
 },
 "nbformat": 4,
 "nbformat_minor": 2
}
