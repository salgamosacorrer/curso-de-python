{
 "cells": [
  {
   "cell_type": "markdown",
   "metadata": {},
   "source": [
    "# <center>**04 - LISTAS**</center>"
   ]
  },
  {
   "cell_type": "markdown",
   "metadata": {},
   "source": [
    "Con anterioridad conocimos a las listas como estructuras de datos que nos permiten almacenar varios valores en una misma variable. En esta sección veremos con más detalle las operaciones que podemos realizar con ellas."
   ]
  },
  {
   "cell_type": "markdown",
   "metadata": {},
   "source": [
    "## 4.1. Creación de listas\n",
    "\n",
    "Para crear una lista, simplemente debemos asignarle a una variable una secuencia de valores separados por comas y encerrados entre corchetes. Por ejemplo:\n",
    "\n",
    "```python\n",
    "lista = [1, 2, 3, 4, 5]\n",
    "```\n",
    "\n",
    "En este caso, la variable `lista` es una lista que contiene los valores `1`, `2`, `3`, `4` y `5`.\n",
    "\n",
    "> **Nota:** En Python, las listas pueden contener valores de distinto tipo. Por ejemplo, la siguiente lista contiene un número entero, un número real, un booleano, una cadena de caracteres y una lista anidada:\n",
    "\n",
    "```python\n",
    "lista = [1, 3.1415, True, \"Hola\", [1, 2, 3]]\n",
    "```"
   ]
  },
  {
   "cell_type": "code",
   "execution_count": null,
   "metadata": {},
   "outputs": [],
   "source": [
    "vocales = [\"A\", \"E\", \"I\", \"O\", \"U\"]\n",
    "nombres = [\"Juan\", \"Pedro\", \"María\", \"Ana\", \"Francisco\"]\n",
    "\n",
    "print(vocales)\n",
    "print(nombres)"
   ]
  },
  {
   "cell_type": "markdown",
   "metadata": {},
   "source": [
    "## 4.2. Acceso a los elementos de una lista\n",
    "\n",
    "Para acceder a los elementos de una lista, debemos indicar el índice del elemento que queremos obtener entre corchetes. Por ejemplo, para obtener el primer elemento de la una lista debemos escribir:\n",
    "\n",
    "```python\n",
    "lista[0]\n",
    "```\n",
    "\n",
    "> **Nota:** En Python, los índices de las listas comienzan en `0`. Por lo tanto, el primer elemento de una lista se obtiene con el índice `0`, el segundo con el índice `1`, y así sucesivamente."
   ]
  },
  {
   "cell_type": "code",
   "execution_count": null,
   "metadata": {},
   "outputs": [],
   "source": [
    "mi_lista = [\"Argentina\", \"Colombia\", \"Perú\", \"Chile\", \"Bolivia\", \"Ecuador\"]\n",
    "\n",
    "print(mi_lista[0])"
   ]
  },
  {
   "cell_type": "markdown",
   "metadata": {},
   "source": [
    "Si queremos obtener el último elemento de una lista, podemos utilizar el índice `-1`. Por ejemplo, para obtener el último elemento de la lista `mi_lista` definida anteriormente, debemos escribir:\n",
    "\n",
    "```python\n",
    "mi_lista[-1]\n",
    "```\n",
    "\n",
    "> **Nota:** En Python, los índices negativos se utilizan para acceder a los elementos de una lista comenzando desde el último. Por lo tanto, el último elemento de una lista se obtiene con el índice `-1`, el penúltimo con el índice `-2`, y así sucesivamente."
   ]
  },
  {
   "cell_type": "code",
   "execution_count": null,
   "metadata": {},
   "outputs": [],
   "source": [
    "print(mi_lista[-1])"
   ]
  },
  {
   "cell_type": "markdown",
   "metadata": {},
   "source": [
    "Para obtener un subconjunto de los elementos de una lista, podemos utilizar la sintaxis `[inicio:fin]`. Por ejemplo, para obtener los primeros tres elementos de la lista `mi_lista` definida anteriormente, debemos escribir:\n",
    "\n",
    "```python\n",
    "lista[0:3]\n",
    "```\n",
    "\n",
    "> **Nota:** En Python, el índice `inicio` se incluye en el subconjunto, pero el índice `fin` no. Por lo tanto, el subconjunto obtenido con la sintaxis `[inicio:fin]` contiene los elementos con índices `inicio`, `inicio + 1`, `inicio + 2`, ..., `fin - 1`."
   ]
  },
  {
   "cell_type": "code",
   "execution_count": null,
   "metadata": {},
   "outputs": [],
   "source": [
    "print(mi_lista[1:4])"
   ]
  },
  {
   "cell_type": "markdown",
   "metadata": {},
   "source": [
    "Este tipo de operación se conoce como *slicing*. Si no indicamos el valor de `inicio`, se asume que es `0`. Por lo tanto, para obtener los primeros tres elementos de la lista `mi_lista` definida anteriormente, también podríamos haber escrito:\n",
    "\n",
    "```python\n",
    "mi_lista[:3]\n",
    "```\n",
    "\n",
    "De manera análoga, si no indicamos el valor de `fin`, se asume que es `len(lista)`. Por lo tanto, para obtener los últimos tres elementos de la lista `mi_lista` definida anteriormente, podríamos haber escrito:\n",
    "\n",
    "```python\n",
    "mi_lista[-3:]\n",
    "```"
   ]
  },
  {
   "cell_type": "code",
   "execution_count": null,
   "metadata": {},
   "outputs": [],
   "source": [
    "# [\"Argentina\", \"Colombia\", \"Perú\", \"Chile\", \"Bolivia\", \"Ecuador\"]\n",
    "\n",
    "print(mi_lista[:3])\n",
    "\n",
    "print(mi_lista[3:])"
   ]
  },
  {
   "cell_type": "markdown",
   "metadata": {},
   "source": [
    "El método len() nos permite obtener la longitud de una lista. Por ejemplo, para obtener la longitud de `mi_lista` debemos escribir:\n",
    "\n",
    "```python\n",
    "len(mi_lista)\n",
    "```"
   ]
  },
  {
   "cell_type": "code",
   "execution_count": null,
   "metadata": {},
   "outputs": [],
   "source": [
    "print(len(mi_lista))"
   ]
  },
  {
   "cell_type": "markdown",
   "metadata": {},
   "source": [
    "## 4.3. Modificación de los elementos de una lista\n",
    "\n",
    "Para modificar un elemento de una lista, debemos asignarle un nuevo valor utilizando la sintaxis `lista[indice] = valor`. Por ejemplo, para modificar el primer elemento de la lista `mi_lista` definida anteriormente, debemos escribir:\n",
    "\n",
    "```python\n",
    "mi_lista[0] = \"Brasil\"\n",
    "```\n"
   ]
  },
  {
   "cell_type": "code",
   "execution_count": null,
   "metadata": {},
   "outputs": [],
   "source": [
    "mi_lista[0] = \"Brasil\"\n",
    "\n",
    "print(mi_lista)"
   ]
  },
  {
   "cell_type": "markdown",
   "metadata": {},
   "source": [
    "## 4.4. Agregando elementos a una lista\n",
    "\n",
    "Para agregar un elemento al final de una lista, podemos utilizar el método `append()`. Por ejemplo, para agregar el elemento `Uruguay` a la lista `mi_lista` definida anteriormente, debemos escribir:\n",
    "\n",
    "```python\n",
    "mi_lista.append(\"Uruguay\")\n",
    "```"
   ]
  },
  {
   "cell_type": "code",
   "execution_count": null,
   "metadata": {},
   "outputs": [],
   "source": [
    "mi_lista.append(\"Uruguay\")\n",
    "\n",
    "print(mi_lista)"
   ]
  },
  {
   "cell_type": "markdown",
   "metadata": {},
   "source": [
    "Podemos concatenar dos listas utilizando el operador `+`. Por ejemplo, para concatenar las listas `mi_lista` y `otra_lista`, debemos escribir:\n",
    "\n",
    "```python\n",
    "mi_lista + otra_lista\n",
    "```"
   ]
  },
  {
   "cell_type": "code",
   "execution_count": null,
   "metadata": {},
   "outputs": [],
   "source": [
    "otra_lista = [\"Venezuela\", \"Paraguay\"]\n",
    "\n",
    "nueva_lista = mi_lista + otra_lista\n",
    "\n",
    "print(nueva_lista)"
   ]
  },
  {
   "cell_type": "markdown",
   "metadata": {},
   "source": [
    "También podemos utilizar el método `extend()` para agregar los elementos de una lista al final de otra."
   ]
  },
  {
   "cell_type": "code",
   "execution_count": null,
   "metadata": {},
   "outputs": [],
   "source": [
    "una_mas = [\"México\"]\n",
    "\n",
    "nueva_lista.extend(una_mas)\n",
    "\n",
    "print(nueva_lista)"
   ]
  },
  {
   "cell_type": "markdown",
   "metadata": {},
   "source": [
    "Por último, podemos utilizar el método `insert()` para insertar un elemento en una posición determinada. Por ejemplo, para insertar el elemento `Panamá` en la posición `1` de la lista `mi_lista` definida anteriormente, debemos escribir:\n",
    "\n",
    "```python\n",
    "mi_lista.insert(1, \"Panamá\")\n",
    "```"
   ]
  },
  {
   "cell_type": "code",
   "execution_count": null,
   "metadata": {},
   "outputs": [],
   "source": [
    "nueva_lista.insert(1, \"Panamá\")  \n",
    "\n",
    "print(nueva_lista)"
   ]
  },
  {
   "cell_type": "markdown",
   "metadata": {},
   "source": [
    "## 4.5. Eliminando elementos de una lista\n",
    "\n",
    "Para eliminar un elemento de una lista, podemos utilizar el método `remove()`. Por ejemplo, para eliminar el elemento `Brasil` de la lista `mi_lista` definida anteriormente, debemos escribir:\n",
    "\n",
    "```python\n",
    "mi_lista.remove(\"Brasil\")\n",
    "```"
   ]
  },
  {
   "cell_type": "code",
   "execution_count": null,
   "metadata": {},
   "outputs": [],
   "source": [
    "mi_lista.remove(\"Brasil\")\n",
    "\n",
    "print(mi_lista)"
   ]
  },
  {
   "cell_type": "markdown",
   "metadata": {},
   "source": [
    "Para eliminar un elemento de una lista, también podemos utilizar la sentencia `del`:\n",
    "\n",
    "```python\n",
    "del mi_lista[0]\n",
    "```"
   ]
  },
  {
   "cell_type": "code",
   "execution_count": null,
   "metadata": {},
   "outputs": [],
   "source": [
    "del mi_lista[0]\n",
    "\n",
    "print(mi_lista)"
   ]
  },
  {
   "cell_type": "markdown",
   "metadata": {},
   "source": [
    "Para eliminar todos los elementos de una lista, podemos utilizar el método `clear()`:\n",
    "\n",
    "```python\n",
    "mi_lista.clear()\n",
    "```"
   ]
  },
  {
   "cell_type": "code",
   "execution_count": null,
   "metadata": {},
   "outputs": [],
   "source": [
    "mi_lista.clear()\n",
    "\n",
    "print(mi_lista)"
   ]
  },
  {
   "cell_type": "markdown",
   "metadata": {},
   "source": [
    "Otra forma de eliminar elementos de una lista es utilizando el método `pop()`. Si no se especifica un índice, este método elimina el último elemento de la lista y lo devuelve. Sino elimina el elemento con el índice especificado\n",
    "```python\n",
    "mi_lista.pop()\n",
    "```\n",
    "\n",
    "> **Nota:** Si utilizamos el método `pop()` para eliminar un elemento de una lista, podemos guardar el elemento eliminado en una variable:\n",
    "\n",
    "```python\n",
    "elemento_eliminado = mi_lista.pop()\n",
    "```"
   ]
  },
  {
   "cell_type": "code",
   "execution_count": null,
   "metadata": {},
   "outputs": [],
   "source": [
    "mi_lista = [\"Argentina\", \"Colombia\", \"Perú\", \"Chile\", \"Bolivia\", \"Ecuador\"]\n",
    "\n",
    "elemento_eliminado = mi_lista.pop()\n",
    "\n",
    "print(mi_lista)\n",
    "print(elemento_eliminado)"
   ]
  },
  {
   "cell_type": "markdown",
   "metadata": {},
   "source": [
    "## 4.6. Copiando listas\n",
    "\n",
    "Para copiar una lista, podemos utilizar el método `copy()`:\n",
    "\n",
    "```python\n",
    "mi_lista_copiada = mi_lista.copy()\n",
    "```\n",
    "\n",
    "> **Nota:** Si utilizamos el operador de asignación (`=`) para copiar una lista, en realidad estaremos creando una referencia a la lista original. Por lo tanto, si modificamos la lista copiada, la lista original también se modificará:\n",
    "\n",
    "Copiar listas es útil cuando queremos modificar una lista sin modificar la original. Por ejemplo, si queremos ordenar una lista, podemos copiarla y ordenar la copia sin modificar la original:"
   ]
  },
  {
   "cell_type": "code",
   "execution_count": null,
   "metadata": {},
   "outputs": [],
   "source": [
    "lista_original = [1, 2, 3, 4, 5]\n",
    "\n",
    "lista_copia_mal = lista_original\n",
    "\n",
    "lista_copia = lista_original.copy()\n",
    "\n",
    "lista_original.append(6)\n",
    "\n",
    "lista_copia_mal.remove(1)\n",
    "\n",
    "del lista_copia[0]\n",
    "\n",
    "print(\"Lista original:\", lista_original)\n",
    "print(\"Lista mal copiada:\", lista_copia_mal)\n",
    "print(\"Lista copiada:\", lista_copia)"
   ]
  },
  {
   "cell_type": "markdown",
   "metadata": {},
   "source": [
    "## 4.7. Ordenando listas\n",
    "\n",
    "Para ordenar una lista, podemos utilizar el método `sort()`:\n",
    "\n",
    "```python\n",
    "mi_lista.sort()\n",
    "```\n",
    "\n",
    "> **Nota:** Por defecto, el método `sort()` ordena los elementos de una lista en orden ascendente (menor a mayor en el caso de los números y alfabéticamente en el caso de las cadenas de caracteres)."
   ]
  },
  {
   "cell_type": "code",
   "execution_count": null,
   "metadata": {},
   "outputs": [],
   "source": [
    "numeros = [33, 14, 22, 97, 46, 81]\n",
    "\n",
    "provincias = [\"Neuquén\", \"Córdoba\", \"Santa Fe\", \"Mendoza\", \"Chubut\", \"Tierra del Fuego\"]\n",
    "\n",
    "numeros.sort()\n",
    "provincias.sort()\n",
    "\n",
    "print(numeros)\n",
    "print(provincias)"
   ]
  },
  {
   "cell_type": "markdown",
   "metadata": {},
   "source": [
    "Si queremos ordenar los elementos de una lista en orden descendente podemos utilizar el parámetro `reverse=True`:"
   ]
  },
  {
   "cell_type": "code",
   "execution_count": null,
   "metadata": {},
   "outputs": [],
   "source": [
    "numeros.sort(reverse=True)\n",
    "provincias.sort(reverse=True)\n",
    "\n",
    "print(numeros)\n",
    "print(provincias)"
   ]
  },
  {
   "cell_type": "markdown",
   "metadata": {},
   "source": [
    "El método `sort()` es muy versátil y permite especificar un valor para el parámetro `key`. Este parámetro debe ser una función que recibe un elemento de la lista y devuelve un valor que se utilizará para comparar los elementos de la lista. Por ejemplo, si queremos ordenar una lista de cadenas de caracteres por su longitud, podemos utilizar el parámetro `key=len`.\n",
    "\n",
    "> **Nota:** El método `sort()` ordena los elementos de una lista en el mismo lugar. Es decir, modifica la lista original y no devuelve nada."
   ]
  },
  {
   "cell_type": "code",
   "execution_count": null,
   "metadata": {},
   "outputs": [],
   "source": [
    "provincias.sort(key=len)\n",
    "\n",
    "print(provincias)"
   ]
  },
  {
   "cell_type": "markdown",
   "metadata": {},
   "source": [
    "## 4.8. Otros métodos de las listas\n",
    "\n",
    "El método `index()` devuelve el índice de la primera aparición de un elemento en una lista. Por ejemplo, para obtener el índice de la primera aparición del elemento `Mendoza` en la lista `provincias` debemos escribir:\n",
    "\n",
    "```python\n",
    "provincias.index(\"Mendoza\")\n",
    "```"
   ]
  },
  {
   "cell_type": "code",
   "execution_count": null,
   "metadata": {},
   "outputs": [],
   "source": [
    "print(provincias.index(\"Mendoza\"))"
   ]
  },
  {
   "cell_type": "markdown",
   "metadata": {},
   "source": [
    "El método `count()` devuelve la cantidad de veces que aparece un elemento en una lista."
   ]
  },
  {
   "cell_type": "code",
   "execution_count": null,
   "metadata": {},
   "outputs": [],
   "source": [
    "palabras = [\"Casa\", \"Mundo\", \"Auto\", \"Perro\", \"Gato\", \"Auto\", \"Calle\", \"Cable\", \"Auto\"]\n",
    "\n",
    "print(palabras.count(\"Auto\"))"
   ]
  },
  {
   "cell_type": "markdown",
   "metadata": {},
   "source": [
    "El método `reverse()` invierte el orden de los elementos de una lista."
   ]
  },
  {
   "cell_type": "code",
   "execution_count": null,
   "metadata": {},
   "outputs": [],
   "source": [
    "print(provincias)\n",
    "\n",
    "provincias.reverse()\n",
    "\n",
    "print(provincias)"
   ]
  },
  {
   "cell_type": "markdown",
   "metadata": {},
   "source": [
    "El método `join()` devuelve una cadena de caracteres que contiene los elementos de una lista separados por un separador. Por ejemplo, para obtener una cadena de caracteres que contenga los elementos de la lista `provincias` separados por comas, debemos escribir:\n",
    "\n",
    "```python\n",
    "\",\".join(provincias)\n",
    "```"
   ]
  },
  {
   "cell_type": "code",
   "execution_count": null,
   "metadata": {},
   "outputs": [],
   "source": [
    "cadena_de_provincias = \",\".join(provincias)\n",
    "print(cadena_de_provincias)"
   ]
  },
  {
   "cell_type": "markdown",
   "metadata": {},
   "source": [
    "El método `split()` devuelve una lista de cadenas de caracteres que contiene las palabras de una cadena de caracteres separadas por un separador. Por ejemplo, para obtener una lista de cadenas de caracteres que contenga las palabras de la cadena de caracteres `\"Buenos Aires, Córdoba, Mendoza\"` separadas por comas, debemos escribir:\n",
    "\n",
    "```python\n",
    "\"Buenos Aires, Córdoba, Mendoza\".split(\",\")\n",
    "```"
   ]
  },
  {
   "cell_type": "code",
   "execution_count": null,
   "metadata": {},
   "outputs": [],
   "source": [
    "print(cadena_de_provincias.split(\",\"))"
   ]
  },
  {
   "cell_type": "markdown",
   "metadata": {},
   "source": [
    "Utilizando los métodos `max()` y `min()` podemos obtener el valor máximo y mínimo de una lista:"
   ]
  },
  {
   "cell_type": "code",
   "execution_count": null,
   "metadata": {},
   "outputs": [],
   "source": [
    "primos = [2, 3, 5, 7, 11, 13, 17, 19, 23]\n",
    "\n",
    "print(\"El valor máximo es:\", max(primos))\t\n",
    "print(\"El valor mínimo es:\", min(primos))"
   ]
  },
  {
   "cell_type": "markdown",
   "metadata": {},
   "source": [
    "El método `sum()` devuelve la suma de los elementos de una lista:"
   ]
  },
  {
   "cell_type": "code",
   "execution_count": null,
   "metadata": {},
   "outputs": [],
   "source": [
    "print(\"La suma de todos los valores es:\", sum(primos))"
   ]
  },
  {
   "cell_type": "markdown",
   "metadata": {},
   "source": [
    "## 4.9. Listas por comprensión\n",
    "\n",
    "En Python, podemos crear listas utilizando una sintaxis muy compacta conocida como *listas por comprensión*. Por ejemplo, la siguiente lista contiene los cuadrados de los números del 1 al 10:\n",
    "\n",
    "```python\n",
    "cuadrados = [x ** 2 for x in range(1, 11)]\n",
    "```\n",
    "\n"
   ]
  },
  {
   "cell_type": "code",
   "execution_count": null,
   "metadata": {},
   "outputs": [],
   "source": [
    "cuadrados = [numero ** 2 for numero in range(1, 11)]\n",
    "\n",
    "print(cuadrados)"
   ]
  },
  {
   "cell_type": "markdown",
   "metadata": {},
   "source": [
    "En general, la sintaxis para crear listas por comprensión es la siguiente:\n",
    "\n",
    "```python\n",
    "[<expresión> for <elemento> in <iterable> if <condición>]\n",
    "```\n",
    "\n",
    "Podemos lograr cosas muy interesantes como por ejemplo, crear una lista de tuplas con los valores de dos listas:\n",
    "\n",
    "```python\n",
    "lista_1 = [1, 2, 3]  \n",
    "lista_2 = [4, 5, 6]\n",
    "\n",
    "lista_de_tuplas = [(x, y) for x in lista_1 for y in lista_2]\n",
    "```"
   ]
  },
  {
   "cell_type": "code",
   "execution_count": null,
   "metadata": {},
   "outputs": [],
   "source": [
    "lista_1 = [1, 2, 3]\n",
    "lista_2 = [4, 5, 6]\n",
    "\n",
    "lista_de_tuplas = [(x, y) for x in lista_1 for y in lista_2]\n",
    "print(lista_de_tuplas)"
   ]
  },
  {
   "cell_type": "markdown",
   "metadata": {},
   "source": [
    "O utilizar listas por comprensión para filtrar los elementos de una lista:\n",
    "\n",
    "```python\n",
    "lista_numeros = [1, 2, 3, 4, 5, 6, 7, 8, 9, 10]\n",
    "\n",
    "pares = [x for x in lista_numeros if x % 2 == 0]\n",
    "```"
   ]
  },
  {
   "cell_type": "code",
   "execution_count": null,
   "metadata": {},
   "outputs": [],
   "source": [
    "lista_numeros = [1, 2, 3, 4, 5, 6, 7, 8, 9, 10]\n",
    "\n",
    "pares = [numero for numero in lista_numeros if numero % 2 == 0]\n",
    "\n",
    "print(pares)"
   ]
  },
  {
   "cell_type": "markdown",
   "metadata": {},
   "source": [
    "Otro método útil es `zip()`, que nos permite iterar sobre dos listas al mismo tiempo:"
   ]
  },
  {
   "cell_type": "code",
   "execution_count": null,
   "metadata": {},
   "outputs": [],
   "source": [
    "autos = [\"Ford\", \"Chevrolet\", \"Renault\", \"Fiat\"]\n",
    "modelos = [2010, 2015, 2012, 2017]\n",
    "\n",
    "for auto, modelo in zip(autos, modelos):\n",
    "    print(auto, modelo)"
   ]
  },
  {
   "cell_type": "code",
   "execution_count": null,
   "metadata": {},
   "outputs": [],
   "source": [
    "auto_modelo = zip(autos, modelos) # Objeto zip\n",
    "\n",
    "print(list(auto_modelo)) # Es necesario convertirlo a lista"
   ]
  },
  {
   "cell_type": "markdown",
   "metadata": {},
   "source": [
    "Por último, podemos utilizar listas por comprensión para crear diccionarios:"
   ]
  },
  {
   "cell_type": "code",
   "execution_count": null,
   "metadata": {},
   "outputs": [],
   "source": [
    "lista_de_paises = [\"Argentina\", \"Brasil\", \"Uruguay\"]\n",
    "copas_ganadas = [3, 5, 2]\n",
    "\n",
    "diccionario = {pais: copas for pais, copas in zip(lista_de_paises, copas_ganadas)}\n",
    "\n",
    "print(diccionario)"
   ]
  }
 ],
 "metadata": {
  "kernelspec": {
   "display_name": "Python 3",
   "language": "python",
   "name": "python3"
  },
  "language_info": {
   "codemirror_mode": {
    "name": "ipython",
    "version": 3
   },
   "file_extension": ".py",
   "mimetype": "text/x-python",
   "name": "python",
   "nbconvert_exporter": "python",
   "pygments_lexer": "ipython3",
   "version": "3.11.4"
  }
 },
 "nbformat": 4,
 "nbformat_minor": 2
}
