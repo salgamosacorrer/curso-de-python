{
 "cells": [
  {
   "cell_type": "markdown",
   "metadata": {},
   "source": [
    "## Listas - Actividad"
   ]
  },
  {
   "cell_type": "markdown",
   "metadata": {},
   "source": [
    "1) Escribe una función que tome una lista de números como argumento y devuelva una nueva lista que contenga solo los números pares."
   ]
  },
  {
   "cell_type": "code",
   "execution_count": 26,
   "metadata": {},
   "outputs": [],
   "source": [
    "def ejercicio_1(numeros):\n",
    "    pares=[]\n",
    "    for num in numeros:\n",
    "        if num%2==0:\n",
    "            pares.append(num)\n",
    "            #print(pares)\n",
    "    return pares"
   ]
  },
  {
   "cell_type": "code",
   "execution_count": 27,
   "metadata": {},
   "outputs": [
    {
     "name": "stdout",
     "output_type": "stream",
     "text": [
      "\u001b[92m✓ Ejercicio correcto!\n"
     ]
    }
   ],
   "source": [
    "# TEST EJERCICIO 1\n",
    "\n",
    "try:\n",
    "    assert ejercicio_1([1, 2, 3, 4, 5, 6, 7, 8, 9]) == [2, 4, 6, 8]\n",
    "    assert ejercicio_1([11, 23, 44, 56, 72, 51, 22, 15]) == [44, 56, 72, 22]\n",
    "    print('\\033[92m' + '✓ Ejercicio correcto!')\n",
    "except AssertionError as e:\n",
    "    print('\\033[91m' + \"x Ejercicio incorrecto\")"
   ]
  },
  {
   "cell_type": "markdown",
   "metadata": {},
   "source": [
    "2) Escribe una función que tome una lista y elimine los elementos duplicados, devolviendo una nueva lista sin duplicados. El orden de los elementos debe mantenerse."
   ]
  },
  {
   "cell_type": "code",
   "execution_count": 74,
   "metadata": {},
   "outputs": [],
   "source": [
    "def ejercicio_2(lista):\n",
    "    lista_sin_duplicados = []\n",
    "    for elemento in lista:\n",
    "        if elemento not in lista_sin_duplicados:\n",
    "            lista_sin_duplicados.append(elemento)\n",
    "    return lista_sin_duplicados\n",
    "            "
   ]
  },
  {
   "cell_type": "code",
   "execution_count": 75,
   "metadata": {},
   "outputs": [
    {
     "name": "stdout",
     "output_type": "stream",
     "text": [
      "\u001b[92m✓ Ejercicio correcto!\n"
     ]
    }
   ],
   "source": [
    "# TEST EJERCICIO 2\n",
    "\n",
    "try:\n",
    "    assert ejercicio_2([1, 2, 2, 3, 4, 4, 5, 5, 5, 2]) == [1, 2, 3, 4, 5]\n",
    "    assert ejercicio_2([\"Hola\", \"Mundo\", \"Hola\", \"Ejercicio\", \"Dos\", \"Numero\", \"Dos\", \"Dos\"]) == [\"Hola\", \"Mundo\", \"Ejercicio\", \"Dos\", \"Numero\"]\n",
    "    print('\\033[92m' + '✓ Ejercicio correcto!')\n",
    "except AssertionError as e:\n",
    "    print('\\033[91m' + \"x Ejercicio incorrecto\")"
   ]
  },
  {
   "cell_type": "markdown",
   "metadata": {},
   "source": [
    "3) Escribe una función que tome una lista y un elemento como argumentos, y elimine todas las ocurrencias de ese elemento en la lista. Devuelve la lista modificada."
   ]
  },
  {
   "cell_type": "code",
   "execution_count": 6,
   "metadata": {},
   "outputs": [],
   "source": [
    "def ejercicio_3(lista, elemento):\n",
    "    lista_modificada=[]\n",
    "    for num in lista:\n",
    "        if num!=elemento:\n",
    "            #print(num)\n",
    "            #lista.remove(num)\n",
    "            lista_modificada.append(num)\n",
    "            #print(lista_modificada)\n",
    "    return lista_modificada      \n",
    "            "
   ]
  },
  {
   "cell_type": "code",
   "execution_count": 7,
   "metadata": {},
   "outputs": [
    {
     "name": "stdout",
     "output_type": "stream",
     "text": [
      "\u001b[92m✓ Ejercicio correcto!\n"
     ]
    }
   ],
   "source": [
    "# TEST EJERCICIO 3\n",
    "\n",
    "try:\n",
    "    assert ejercicio_3([1, 2, 3, 4, 2, 5, 2], 2) == [1, 3, 4, 5]\n",
    "    assert ejercicio_3([\"Alfa\", \"Beta\", \"Gamma\", \"Epsilon\", \"Alfa\", \"Alfa\"], \"Alfa\") == [\"Beta\", \"Gamma\", \"Epsilon\"]\n",
    "    print('\\033[92m' + '✓ Ejercicio correcto!')\n",
    "except AssertionError as e:\n",
    "    print('\\033[91m' + \"x Ejercicio incorrecto\")"
   ]
  },
  {
   "cell_type": "markdown",
   "metadata": {},
   "source": [
    "4) Escribe una función que tome una lista de números como argumento y devuelva una nueva lista que contenga solo los números que son mayores que 0 (cero), ordenados de menor a mayor."
   ]
  },
  {
   "cell_type": "code",
   "execution_count": 8,
   "metadata": {},
   "outputs": [],
   "source": [
    "def ejercicio_4(numeros):\n",
    "    lista=[]\n",
    "    for num in numeros:\n",
    "        if num>0:\n",
    "            lista.append(num)\n",
    "            lista.sort()\n",
    "    return lista        \n",
    "            "
   ]
  },
  {
   "cell_type": "code",
   "execution_count": 9,
   "metadata": {},
   "outputs": [
    {
     "name": "stdout",
     "output_type": "stream",
     "text": [
      "\u001b[92m✓ Ejercicio correcto!\n"
     ]
    }
   ],
   "source": [
    "# TEST EJERCICIO 4\n",
    "\n",
    "try:\n",
    "    assert ejercicio_4([-3, 5, 1, 0, -1, 8, 2, 4, 3, 6]) == [1, 2, 3, 4, 5, 6, 8]\n",
    "    print('\\033[92m' + '✓ Ejercicio correcto!')\n",
    "except AssertionError as e:\n",
    "    print('\\033[91m' + \"x Ejercicio incorrecto\")"
   ]
  },
  {
   "cell_type": "markdown",
   "metadata": {},
   "source": [
    "5) Crear una función que cuente la cantidad de veces que se repite cada elemento de una lista. Devolver un diccionario con los elementos y sus repeticiones.\n",
    "\n",
    "> Consejo: Usar el método `count` de las listas y listas por comprensión."
   ]
  },
  {
   "cell_type": "code",
   "execution_count": 74,
   "metadata": {},
   "outputs": [],
   "source": [
    "def ejercicio_5(lista):\n",
    "   # Crear un diccionario vacío para almacenar las frecuencias\n",
    "   frecuencias = {}\n",
    "    # Iterar sobre los elementos de la lista\n",
    "   for elemento in lista:\n",
    "   #Contar cuántas veces aparece el elemento en la lista y almacenar esa frecuencia en el diccionario\n",
    "       frecuencias[elemento] = lista.count(elemento)\n",
    "       #print (frecuencias)\n",
    "   return frecuencias"
   ]
  },
  {
   "cell_type": "code",
   "execution_count": 75,
   "metadata": {},
   "outputs": [
    {
     "name": "stdout",
     "output_type": "stream",
     "text": [
      "\u001b[92m✓ Ejercicio correcto!\n"
     ]
    }
   ],
   "source": [
    "# TEST EJERCICIO 5\n",
    "\n",
    "try:\n",
    "    assert ejercicio_5([\"Hola\", \"Hola\", \"Mundo\", \"Hola\", \"Palabra\", \"Curso\", \"Curso\"]) == {\"Hola\": 3, \"Mundo\": 1, \"Palabra\": 1, \"Curso\": 2}\n",
    "    print('\\033[92m' + '✓ Ejercicio correcto!')\n",
    "except AssertionError as e:\n",
    "    print('\\033[91m' + \"x Ejercicio incorrecto\")\n"
   ]
  },
  {
   "cell_type": "markdown",
   "metadata": {},
   "source": [
    "6) Escribe una función que tome un número entero positivo n como argumento y devuelva una lista de los primeros n números primos.\n",
    "\n",
    "> Nota: Un número primo es un número natural mayor que 1 que es divisible únicamente por 1 y por sí mismo."
   ]
  },
  {
   "cell_type": "code",
   "execution_count": 105,
   "metadata": {},
   "outputs": [],
   "source": [
    "def ejercicio_6(n):\n",
    "    #if n <= 1:\n",
    "     #   return []  # Los números menores o iguales a 1 no son primos\n",
    "    \n",
    "    primos = []  # Inicializamos una lista para almacenar los números primos encontrados\n",
    "    \n",
    "    for numero in range(2, n + 1):#inicia en 2 hasta n inclusive ejemplo si n=3 seria 2 y 3 porque daria (a,b-1)\n",
    "        \n",
    "        es_primo = True  # Variable para verificar si el número es primo o no\n",
    "        \n",
    "        for i in range(2, int(numero ** 0.5) + 1):#con el 2 por ejmplo el bucle for no se ejecutará porque no hay valores que estén estrictamente entre 2 y 2.\n",
    "           \n",
    "         if numero % i == 0:  # Si encuentra un divisor, el número no es primo\n",
    "                es_primo = False\n",
    "                break\n",
    "        \n",
    "        if es_primo:\n",
    "            primos.append(numero)  # Agregamos el número a la lista de primos\n",
    "    \n",
    "    return primos  # Retornamos la lista con los números primos encontrados "
   ]
  },
  {
   "cell_type": "code",
   "execution_count": 108,
   "metadata": {},
   "outputs": [
    {
     "name": "stdout",
     "output_type": "stream",
     "text": [
      "\u001b[92m✓ Ejercicio correcto!\n"
     ]
    }
   ],
   "source": [
    "# TEST EJERCICIO 6\n",
    "\n",
    "try:\n",
    "    assert ejercicio_6(20) == [2, 3, 5, 7, 11, 13, 17, 19]\n",
    "    assert ejercicio_6(10) == [2, 3, 5, 7]\n",
    "    print('\\033[92m' + '✓ Ejercicio correcto!')\n",
    "except AssertionError as e:\n",
    "    print('\\033[91m' + \"x Ejercicio incorrecto\")"
   ]
  },
  {
   "cell_type": "markdown",
   "metadata": {},
   "source": [
    "7) Escribe una función que tome una lista de números como argumento y devuelva `True` si la lista está ordenada en orden descendente y `False` en caso contrario."
   ]
  },
  {
   "cell_type": "code",
   "execution_count": 182,
   "metadata": {},
   "outputs": [],
   "source": [
    "def ejercicio_7(numeros):\n",
    "    lista = []\n",
    "    for i in range(len(numeros) - 1):  # Itera sobre índices hasta el penúltimo elemento\n",
    "        if numeros[i] < numeros[i + 1]:  # Compara el número actual con el siguiente número\n",
    "            return False\n",
    "        \n",
    "    else:\n",
    "     return True\n"
   ]
  },
  {
   "cell_type": "code",
   "execution_count": 184,
   "metadata": {},
   "outputs": [
    {
     "name": "stdout",
     "output_type": "stream",
     "text": [
      "\u001b[92m✓ Ejercicio correcto!\n"
     ]
    }
   ],
   "source": [
    "# TEST EJERCICIO 7\n",
    "\n",
    "try:\n",
    "    assert ejercicio_7([4, 11, 7, 3, 1, 0, 8, 14, 25]) == False\n",
    "    assert ejercicio_7([1, 2, 3, 4, 5, 6, 7, 8, 9]) == False\n",
    "    assert ejercicio_7([11, 9, 6, 3, 1]) == True\n",
    "    print('\\033[92m' + '✓ Ejercicio correcto!')\n",
    "except AssertionError as e:\n",
    "    print('\\033[91m' + \"x Ejercicio incorrecto\")"
   ]
  }
 ],
 "metadata": {
  "kernelspec": {
   "display_name": "Python 3",
   "language": "python",
   "name": "python3"
  },
  "language_info": {
   "codemirror_mode": {
    "name": "ipython",
    "version": 3
   },
   "file_extension": ".py",
   "mimetype": "text/x-python",
   "name": "python",
   "nbconvert_exporter": "python",
   "pygments_lexer": "ipython3",
   "version": "3.12.0"
  }
 },
 "nbformat": 4,
 "nbformat_minor": 2
}
